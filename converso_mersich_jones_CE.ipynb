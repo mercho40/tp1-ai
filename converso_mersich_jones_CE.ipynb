{
 "cells": [
  {
   "cell_type": "markdown",
   "id": "69553f32",
   "metadata": {},
   "source": [
    "# Dataset\n",
    "[Credit card Details Binary Classification Problem](https://www.kaggle.com/datasets/rohitudageri/credit-card-details)\n",
    "\n",
    "## Origen\n",
    "Dataset de CCredit card Details Binary Classification Problem de Kaggle (https://www.kaggle.com/datasets/rohitudageri/credit-card-details), que contiene información de solicitudes de tarjetas de crédito.\n",
    "\n",
    "## Justificacion del problema de clasificacion\n",
    " Este es un problema de clasificación binaria porque el label es 0 o 1 que indica si una solicitud de tarjeta de crédito fue aprobada o rechazada\n",
    "\n",
    "## Descripción del dataset\n",
    "\n",
    "\n",
    "  | Columna         | Tipo              | Descripción                                                               |\n",
    "  |-----------------|-------------------|---------------------------------------------------------------------------|\n",
    "  | Ind_ID          | ID                | Identificador único del solicitante                                       |\n",
    "  | GENDER          | Categórica        | Género (M/F)                                                              |\n",
    "  | Car_Owner       | Categórica        | ¿Posee auto? (Y/N)                                                        |\n",
    "  | Propert_Owner   | Categórica        | ¿Posee propiedad? (Y/N)                                                   |\n",
    "  | CHILDREN        | Numérica          | Número de hijos                                                           |\n",
    "  | Annual_income   | Numérica continua | Ingreso anual                                                             |\n",
    "  | Type_Income     | Categórica        | Tipo de ingreso (Pensioner, Commercial associate, Working, State servant) |\n",
    "  | EDUCATION       | Categórica        | Nivel educativo                                                           |\n",
    "  | Marital_status  | Categórica        | Estado civil                                                              |\n",
    "  | Housing_type    | Categórica        | Tipo de vivienda                                                          |\n",
    "  | Birthday_count  | Numérica continua | Edad (en días negativos desde fecha de referencia)                        |\n",
    "  | Employed_days   | Numérica continua | Días empleado (negativo = activo, 365243 = pensionado)                    |\n",
    "  | Mobile_phone    | Binaria           | ¿Tiene teléfono móvil? (1/0)                                              |\n",
    "  | Work_Phone      | Binaria           | ¿Tiene teléfono laboral? (1/0)                                            |\n",
    "  | Phone           | Binaria           | ¿Tiene teléfono fijo? (1/0)                                               |\n",
    "  | EMAIL_ID        | Binaria           | ¿Tiene email? (1/0)                                                       |\n",
    "  | Type_Occupation | Categórica        | Ocupación                                                                 |\n",
    "  | Family_Members  | Numérica          | Miembros de la familia                                                    |\n",
    "  | label           | Binaria           | Aprobación (1) o Rechazo (0)                                              |\n",
    "\n",
    "\n",
    "## Exploracion de datos"
   ]
  },
  {
   "cell_type": "code",
   "execution_count": 1,
   "id": "22b2c0ab",
   "metadata": {},
   "outputs": [
    {
     "name": "stdout",
     "output_type": "stream",
     "text": [
      "=== INFORMACIÓN DEL DATASET ===\n",
      "Dimensiones: (1548, 19)\n",
      "\n",
      "Columnas (19):\n",
      "  - Ind_ID\n",
      "  - GENDER\n",
      "  - Car_Owner\n",
      "  - Propert_Owner\n",
      "  - CHILDREN\n",
      "  - Annual_income\n",
      "  - Type_Income\n",
      "  - EDUCATION\n",
      "  - Marital_status\n",
      "  - Housing_type\n",
      "  - Birthday_count\n",
      "  - Employed_days\n",
      "  - Mobile_phone\n",
      "  - Work_Phone\n",
      "  - Phone\n",
      "  - EMAIL_ID\n",
      "  - Type_Occupation\n",
      "  - Family_Members\n",
      "  - label\n",
      "\n",
      "=== TIPOS DE DATOS ===\n",
      "Ind_ID               int64\n",
      "GENDER              object\n",
      "Car_Owner           object\n",
      "Propert_Owner       object\n",
      "CHILDREN             int64\n",
      "Annual_income      float64\n",
      "Type_Income         object\n",
      "EDUCATION           object\n",
      "Marital_status      object\n",
      "Housing_type        object\n",
      "Birthday_count     float64\n",
      "Employed_days        int64\n",
      "Mobile_phone         int64\n",
      "Work_Phone           int64\n",
      "Phone                int64\n",
      "EMAIL_ID             int64\n",
      "Type_Occupation     object\n",
      "Family_Members       int64\n",
      "label                int64\n",
      "dtype: object\n",
      "\n",
      "=== VALORES ÚNICOS EN LABEL ===\n",
      "label\n",
      "0    1373\n",
      "1     175\n",
      "Name: count, dtype: int64\n",
      "\n",
      "=== ESTADÍSTICAS NUMÉRICAS ===\n",
      "             Ind_ID     CHILDREN  Annual_income  Birthday_count  \\\n",
      "count  1.548000e+03  1548.000000   1.525000e+03     1526.000000   \n",
      "mean   5.078920e+06     0.412791   1.913993e+05   -16040.342071   \n",
      "std    4.171759e+04     0.776691   1.132530e+05     4229.503202   \n",
      "min    5.008827e+06     0.000000   3.375000e+04   -24946.000000   \n",
      "25%    5.045070e+06     0.000000   1.215000e+05   -19553.000000   \n",
      "50%    5.078842e+06     0.000000   1.665000e+05   -15661.500000   \n",
      "75%    5.115673e+06     1.000000   2.250000e+05   -12417.000000   \n",
      "max    5.150412e+06    14.000000   1.575000e+06    -7705.000000   \n",
      "\n",
      "       Employed_days  Mobile_phone   Work_Phone        Phone     EMAIL_ID  \\\n",
      "count    1548.000000        1548.0  1548.000000  1548.000000  1548.000000   \n",
      "mean    59364.689922           1.0     0.208010     0.309432     0.092377   \n",
      "std    137808.062701           0.0     0.406015     0.462409     0.289651   \n",
      "min    -14887.000000           1.0     0.000000     0.000000     0.000000   \n",
      "25%     -3174.500000           1.0     0.000000     0.000000     0.000000   \n",
      "50%     -1565.000000           1.0     0.000000     0.000000     0.000000   \n",
      "75%      -431.750000           1.0     0.000000     1.000000     0.000000   \n",
      "max    365243.000000           1.0     1.000000     1.000000     1.000000   \n",
      "\n",
      "       Family_Members        label  \n",
      "count     1548.000000  1548.000000  \n",
      "mean         2.161499     0.113049  \n",
      "std          0.947772     0.316755  \n",
      "min          1.000000     0.000000  \n",
      "25%          2.000000     0.000000  \n",
      "50%          2.000000     0.000000  \n",
      "75%          3.000000     0.000000  \n",
      "max         15.000000     1.000000  \n",
      "\n",
      "=== VALORES FALTANTES ===\n",
      "Ind_ID               0\n",
      "GENDER               7\n",
      "Car_Owner            0\n",
      "Propert_Owner        0\n",
      "CHILDREN             0\n",
      "Annual_income       23\n",
      "Type_Income          0\n",
      "EDUCATION            0\n",
      "Marital_status       0\n",
      "Housing_type         0\n",
      "Birthday_count      22\n",
      "Employed_days        0\n",
      "Mobile_phone         0\n",
      "Work_Phone           0\n",
      "Phone                0\n",
      "EMAIL_ID             0\n",
      "Type_Occupation    488\n",
      "Family_Members       0\n",
      "label                0\n",
      "dtype: int64\n",
      "\n",
      "=== CORRELACIONES CON LABEL ===\n",
      "label             1.000000\n",
      "Employed_days     0.031408\n",
      "Annual_income     0.027456\n",
      "Ind_ID            0.016796\n",
      "EMAIL_ID          0.012921\n",
      "Phone            -0.000664\n",
      "Work_Phone       -0.007046\n",
      "CHILDREN         -0.021646\n",
      "Family_Members   -0.030709\n",
      "Birthday_count   -0.045097\n",
      "Mobile_phone           NaN\n",
      "Name: label, dtype: float64\n"
     ]
    }
   ],
   "source": [
    "import pandas as pd\n",
    "import numpy as np\n",
    "\n",
    "# Cargar datos\n",
    "df = pd.read_csv('datos/credit_card.csv')\n",
    "labels = pd.read_csv('datos/credit_card_label.csv')\n",
    "\n",
    "# Merge\n",
    "data = df.merge(labels, on='Ind_ID')\n",
    "\n",
    "print(\"=== INFORMACIÓN DEL DATASET ===\")\n",
    "print(f\"Dimensiones: {data.shape}\")\n",
    "print(f\"\\nColumnas ({len(data.columns)}):\")\n",
    "for col in data.columns:\n",
    "    print(f\"  - {col}\")\n",
    "\n",
    "print(\"\\n=== TIPOS DE DATOS ===\")\n",
    "print(data.dtypes)\n",
    "\n",
    "print(\"\\n=== VALORES ÚNICOS EN LABEL ===\")\n",
    "print(data['label'].value_counts())\n",
    "\n",
    "print(\"\\n=== ESTADÍSTICAS NUMÉRICAS ===\")\n",
    "print(data.describe())\n",
    "\n",
    "print(\"\\n=== VALORES FALTANTES ===\")\n",
    "print(data.isnull().sum())\n",
    "\n",
    "print(\"\\n=== CORRELACIONES CON LABEL ===\")\n",
    "# Solo columnas numéricas\n",
    "numeric_cols = data.select_dtypes(include=[np.number]).columns\n",
    "corr_with_label = data[numeric_cols].corr()['label'].sort_values(ascending=False)\n",
    "print(corr_with_label)"
   ]
  },
  {
   "cell_type": "markdown",
   "id": "b93c1886",
   "metadata": {},
   "source": [
    "# A partir de los atributos numericos continuos\n",
    "\n",
    "# Seleccionar solo atributos numéricos continuos"
   ]
  },
  {
   "cell_type": "code",
   "execution_count": 2,
   "id": "f4d6e5d5",
   "metadata": {},
   "outputs": [],
   "source": [
    "from sklearn.model_selection import train_test_split\n",
    "from sklearn.metrics import accuracy_score, recall_score, precision_score\n",
    "from sklearn.impute import SimpleImputer\n",
    "\n",
    "numeric_cols = data.select_dtypes(include=[np.number]).columns\n",
    "\n",
    "X = data[numeric_cols].drop(columns=['label'])\n",
    "y = data['label']\n",
    "\n",
    "# Dividir en train y test\n",
    "X_train, X_test, y_train, y_test = train_test_split(X, y, test_size=0.3, random_state=41)\n",
    "\n",
    "# Imputar valores faltantes con la media\n",
    "imputer = SimpleImputer(strategy='mean')\n",
    "X_train_imputed = imputer.fit_transform(X_train)\n",
    "X_test_imputed = imputer.transform(X_test)\n"
   ]
  },
  {
   "cell_type": "markdown",
   "id": "2f5aa073",
   "metadata": {},
   "source": [
    "## Modelo de Regresión Logistica para clasificación"
   ]
  },
  {
   "cell_type": "code",
   "execution_count": 3,
   "id": "9c0eab71",
   "metadata": {},
   "outputs": [
    {
     "name": "stdout",
     "output_type": "stream",
     "text": [
      "Accuracy Score: 0.9139784946236559\n",
      "Recall Score: 0.0\n",
      "Precision Score: 0.0\n"
     ]
    },
    {
     "name": "stderr",
     "output_type": "stream",
     "text": [
      "/Users/simon/Developer/tp1-ai/.venv/lib/python3.13/site-packages/sklearn/metrics/_classification.py:1731: UndefinedMetricWarning: Precision is ill-defined and being set to 0.0 due to no predicted samples. Use `zero_division` parameter to control this behavior.\n",
      "  _warn_prf(average, modifier, f\"{metric.capitalize()} is\", result.shape[0])\n"
     ]
    }
   ],
   "source": [
    "from sklearn.linear_model import LogisticRegression\n",
    "\n",
    "# Entrenar y evaluar el modelo\n",
    "model = LogisticRegression()\n",
    "model.fit(X_train_imputed, y_train)\n",
    "\n",
    "# Evaluar con train/test split\n",
    "y_pred = model.predict(X_test_imputed)\n",
    "print(\"Accuracy Score:\", accuracy_score(y_test, y_pred))\n",
    "print(\"Recall Score:\", recall_score(y_test, y_pred))\n",
    "print(\"Precision Score:\", precision_score(y_test, y_pred))"
   ]
  },
  {
   "cell_type": "markdown",
   "id": "0f18d2fa",
   "metadata": {},
   "source": [
    "##  Modelo de Arboles de Decisión."
   ]
  },
  {
   "cell_type": "code",
   "execution_count": 4,
   "id": "0a27b5b4",
   "metadata": {},
   "outputs": [
    {
     "name": "stdout",
     "output_type": "stream",
     "text": [
      "Accuracy Score: 0.9010752688172043\n",
      "Recall Score: 0.025\n",
      "Precision Score: 0.125\n"
     ]
    }
   ],
   "source": [
    "from sklearn.tree import DecisionTreeClassifier\n",
    "\n",
    "# Entrenar y evaluar el modelo\n",
    "model = DecisionTreeClassifier(criterion='entropy', max_depth=3)\n",
    "model.fit(X_train_imputed, y_train)\n",
    "\n",
    "# Evaluar con train/test split\n",
    "y_pred = model.predict(X_test_imputed)\n",
    "print(\"Accuracy Score:\", accuracy_score(y_test, y_pred))\n",
    "print(\"Recall Score:\", recall_score(y_test, y_pred))\n",
    "print(\"Precision Score:\", precision_score(y_test, y_pred))"
   ]
  },
  {
   "cell_type": "markdown",
   "id": "afcca806",
   "metadata": {},
   "source": [
    "# A partir de tanto los atributos numericos continuos como los atributos categoricos\n",
    "\n",
    "## Seleccionar los datos"
   ]
  },
  {
   "cell_type": "code",
   "execution_count": 5,
   "id": "7e0fdc8f",
   "metadata": {},
   "outputs": [],
   "source": [
    "X = data.drop(columns=['label'])\n",
    "y = data['label']\n",
    "\n",
    "# Dividir en train y test\n",
    "X_train, X_test, y_train, y_test = train_test_split(X, y, test_size=0.3, random_state=41)\n",
    "\n",
    "#one-hot encoding para variables categóricas\n",
    "X_train = pd.get_dummies(X_train)\n",
    "X_test = pd.get_dummies(X_test)\n",
    "\n",
    "# Alinear las columnas de train y test\n",
    "X_train, X_test = X_train.align(X_test, join='left', axis=1, fill_value=0)\n",
    "# Imputar valores faltantes con la media\n",
    "imputer = SimpleImputer(strategy='mean')\n",
    "X_train_imputed = imputer.fit_transform(X_train)\n",
    "X_test_imputed = imputer.transform(X_test)"
   ]
  },
  {
   "cell_type": "markdown",
   "id": "fe7616f5",
   "metadata": {},
   "source": [
    "## Modelo de Regresión Logistica para clasificación"
   ]
  },
  {
   "cell_type": "code",
   "execution_count": 6,
   "id": "2a5e27ff",
   "metadata": {},
   "outputs": [
    {
     "name": "stdout",
     "output_type": "stream",
     "text": [
      "Accuracy Score: 0.9139784946236559\n",
      "Recall Score: 0.0\n",
      "Precision Score: 0.0\n"
     ]
    },
    {
     "name": "stderr",
     "output_type": "stream",
     "text": [
      "/Users/simon/Developer/tp1-ai/.venv/lib/python3.13/site-packages/sklearn/metrics/_classification.py:1731: UndefinedMetricWarning: Precision is ill-defined and being set to 0.0 due to no predicted samples. Use `zero_division` parameter to control this behavior.\n",
      "  _warn_prf(average, modifier, f\"{metric.capitalize()} is\", result.shape[0])\n"
     ]
    }
   ],
   "source": [
    "# Entrenar y evaluar el modelo\n",
    "model = LogisticRegression()\n",
    "model.fit(X_train_imputed, y_train)\n",
    "\n",
    "# Evaluar con train/test split\n",
    "y_pred = model.predict(X_test_imputed)\n",
    "print(\"Accuracy Score:\", accuracy_score(y_test, y_pred))\n",
    "print(\"Recall Score:\", recall_score(y_test, y_pred))\n",
    "print(\"Precision Score:\", precision_score(y_test, y_pred))"
   ]
  },
  {
   "cell_type": "markdown",
   "id": "5b10795c",
   "metadata": {},
   "source": [
    "##  Modelo de Arboles de Decisión con GridSearchCV para busqueda de hiperparametros."
   ]
  },
  {
   "cell_type": "code",
   "execution_count": 7,
   "id": "f24523d8",
   "metadata": {},
   "outputs": [
    {
     "name": "stdout",
     "output_type": "stream",
     "text": [
      "Mejores hiperparámetros encontrados: {'max_depth': 5}\n",
      "Mejor accuracy promedio (CV): 0.8707415941286909\n"
     ]
    }
   ],
   "source": [
    "from sklearn.model_selection import GridSearchCV\n",
    "from sklearn.model_selection import StratifiedKFold\n",
    "\n",
    "\n",
    "rf = DecisionTreeClassifier(random_state=42)\n",
    "param_grid = {\n",
    "    'max_depth': [None, 5, 10]\n",
    "}\n",
    "\n",
    "grid_search = GridSearchCV(estimator=rf, param_grid=param_grid, \n",
    "                           cv=StratifiedKFold(n_splits=5, shuffle=True, random_state=42),\n",
    "                           scoring='accuracy', n_jobs=-1)\n",
    "\n",
    "grid_search.fit(X_train_imputed, y_train)\n",
    "\n",
    "print(\"Mejores hiperparámetros encontrados:\", grid_search.best_params_)\n",
    "print(\"Mejor accuracy promedio (CV):\", grid_search.best_score_)"
   ]
  }
 ],
 "metadata": {
  "kernelspec": {
   "display_name": ".venv",
   "language": "python",
   "name": "python3"
  },
  "language_info": {
   "codemirror_mode": {
    "name": "ipython",
    "version": 3
   },
   "file_extension": ".py",
   "mimetype": "text/x-python",
   "name": "python",
   "nbconvert_exporter": "python",
   "pygments_lexer": "ipython3",
   "version": "3.13.7"
  }
 },
 "nbformat": 4,
 "nbformat_minor": 5
}

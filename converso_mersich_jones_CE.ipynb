{
 "cells": [
  {
   "cell_type": "markdown",
   "id": "69553f32",
   "metadata": {},
   "source": [
    "# Dataset\n",
    "[Credit Card Approval Prediction](https://www.kaggle.com/datasets/rikdifos/credit-card-approval-prediction)\n",
    "\n",
    "## Origen\n",
    "`Don't ask me where this data come from, the answer is I don't know!`\n",
    "\n",
    "## Justificacion del problema de clasificacion\n",
    " \n",
    "## Descripción del dataset\n",
    "\n",
    "## Exploracion de datos"
   ]
  },
  {
   "cell_type": "code",
   "execution_count": null,
   "id": "22b2c0ab",
   "metadata": {},
   "outputs": [],
   "source": [
    "import pandas as pd\n",
    "\n",
    "df = pd.read_csv('datos/credit_card.csv')\n",
    "y = pd.read_csv('datos/credit_card_label.csv', usecols=[\"label\"])"
   ]
  },
  {
   "cell_type": "markdown",
   "id": "b93c1886",
   "metadata": {},
   "source": [
    "# A partir de los atributos numericos continuos\n",
    "\n",
    "## Modelo de Regresión Logistica para clasificación"
   ]
  },
  {
   "cell_type": "code",
   "execution_count": null,
   "id": "9c0eab71",
   "metadata": {},
   "outputs": [],
   "source": []
  },
  {
   "cell_type": "markdown",
   "id": "0f18d2fa",
   "metadata": {},
   "source": [
    "##  Modelo de Arboles de Decisión."
   ]
  },
  {
   "cell_type": "code",
   "execution_count": null,
   "id": "0a27b5b4",
   "metadata": {},
   "outputs": [],
   "source": []
  },
  {
   "cell_type": "markdown",
   "id": "afcca806",
   "metadata": {},
   "source": [
    "# A partir de tanto los atributos numericos continuos como los atributos categoricos\n",
    "\n",
    "## Modelo de Regresión Logistica para clasificación"
   ]
  },
  {
   "cell_type": "code",
   "execution_count": null,
   "id": "2a5e27ff",
   "metadata": {},
   "outputs": [],
   "source": []
  },
  {
   "cell_type": "markdown",
   "id": "5b10795c",
   "metadata": {},
   "source": [
    "##  Modelo de Arboles de Decisión."
   ]
  },
  {
   "cell_type": "code",
   "execution_count": null,
   "id": "f24523d8",
   "metadata": {},
   "outputs": [],
   "source": []
  }
 ],
 "metadata": {
  "kernelspec": {
   "display_name": ".venv",
   "language": "python",
   "name": "python3"
  },
  "language_info": {
   "codemirror_mode": {
    "name": "ipython",
    "version": 3
   },
   "file_extension": ".py",
   "mimetype": "text/x-python",
   "name": "python",
   "nbconvert_exporter": "python",
   "pygments_lexer": "ipython3",
   "version": "3.13.7"
  }
 },
 "nbformat": 4,
 "nbformat_minor": 5
}
